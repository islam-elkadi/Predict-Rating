{
 "cells": [
  {
   "cell_type": "markdown",
   "metadata": {},
   "source": [
    "This notebook is a step-by-step tutorial on implementing Text Classification to solve a problem proposed by an IBM Data Science hackathon. The code demonstrated in this tutorial has been productionized and converted into a REST API. To view the code, please navigate to the <b>src</b> folder."
   ]
  },
  {
   "cell_type": "markdown",
   "metadata": {},
   "source": [
    "# The problem"
   ]
  },
  {
   "cell_type": "markdown",
   "metadata": {},
   "source": [
    "A client in the retail space has customer reviews on its products. Recently, the client has implemented a 5-star rating system as part of its reviews platform. However, that was note the case in the past, and due to that there remains large volumes of historical data that has not recieved 5-star ratings from its clients. This client has hired IBM to implement a text classification system that will predict the ratings for their customer historical reviews.\n",
    "\n",
    "The client has suggested that its competitor Amazon competes in the same space, and has plenty of open source data to use that contains ratings for similar products in this space. "
   ]
  },
  {
   "cell_type": "markdown",
   "metadata": {},
   "source": [
    "# Imports"
   ]
  },
  {
   "cell_type": "code",
   "execution_count": 10,
   "metadata": {},
   "outputs": [],
   "source": [
    "import re\n",
    "\n",
    "import pandas as pd\n",
    "import matplotlib.pyplot as plt\n",
    "\n",
    "from itertools import product\n",
    "from subprocess import run, PIPE\n",
    "\n",
    "from nltk.corpus import stopwords\n",
    "from nltk.tokenize import word_tokenize\n",
    "\n",
    "from os.path import join\n",
    "from os import remove, system, listdir, makedirs"
   ]
  },
  {
   "cell_type": "markdown",
   "metadata": {},
   "source": [
    "# Utils"
   ]
  },
  {
   "cell_type": "code",
   "execution_count": 20,
   "metadata": {},
   "outputs": [],
   "source": [
    "def plot_bar(dataframe, target, x_label, figsize, rotation = 0):\n",
    "    info = dataframe[target].value_counts()\n",
    "    info_id = info.index.tolist() \n",
    "    info_counts = info.tolist()\n",
    "    plt.figure(figsize = figsize)\n",
    "    plt.bar(info_id, info_counts, align = \"center\", color = \"green\")\n",
    "    plt.xlabel(x_label)\n",
    "    plt.ylabel('Counts')\n",
    "    plt.xticks(rotation = rotation)\n",
    "    plt.show()"
   ]
  },
  {
   "cell_type": "markdown",
   "metadata": {},
   "source": [
    "# Preprocessing"
   ]
  },
  {
   "cell_type": "markdown",
   "metadata": {},
   "source": [
    "## Load Data"
   ]
  },
  {
   "cell_type": "code",
   "execution_count": 2,
   "metadata": {},
   "outputs": [],
   "source": [
    "reviews = pd.read_csv(\"./Dataset/raw_training_set/CDVinyl.csv\")"
   ]
  },
  {
   "cell_type": "markdown",
   "metadata": {},
   "source": [
    "## Data Exploration"
   ]
  },
  {
   "cell_type": "code",
   "execution_count": 4,
   "metadata": {},
   "outputs": [
    {
     "data": {
      "text/html": [
       "<div>\n",
       "<style scoped>\n",
       "    .dataframe tbody tr th:only-of-type {\n",
       "        vertical-align: middle;\n",
       "    }\n",
       "\n",
       "    .dataframe tbody tr th {\n",
       "        vertical-align: top;\n",
       "    }\n",
       "\n",
       "    .dataframe thead th {\n",
       "        text-align: right;\n",
       "    }\n",
       "</style>\n",
       "<table border=\"1\" class=\"dataframe\">\n",
       "  <thead>\n",
       "    <tr style=\"text-align: right;\">\n",
       "      <th></th>\n",
       "      <th>asin</th>\n",
       "      <th>helpful</th>\n",
       "      <th>overall</th>\n",
       "      <th>reviewText</th>\n",
       "      <th>reviewTime</th>\n",
       "      <th>reviewerID</th>\n",
       "      <th>reviewerName</th>\n",
       "      <th>summary</th>\n",
       "      <th>unixReviewTime</th>\n",
       "    </tr>\n",
       "  </thead>\n",
       "  <tbody>\n",
       "    <tr>\n",
       "      <th>0</th>\n",
       "      <td>0307141985</td>\n",
       "      <td>[14, 15]</td>\n",
       "      <td>5</td>\n",
       "      <td>I don't know who owns the rights to this wonde...</td>\n",
       "      <td>10 6, 2005</td>\n",
       "      <td>A3IEV6R2B7VW5Z</td>\n",
       "      <td>J. Anderson</td>\n",
       "      <td>LISTEN TO THE PUBLIC!!!</td>\n",
       "      <td>1128556800</td>\n",
       "    </tr>\n",
       "    <tr>\n",
       "      <th>1</th>\n",
       "      <td>0307141985</td>\n",
       "      <td>[38, 38]</td>\n",
       "      <td>5</td>\n",
       "      <td>This is a Thanksgiving tale that begins with t...</td>\n",
       "      <td>07 14, 2003</td>\n",
       "      <td>A6GMEO3VRY51S</td>\n",
       "      <td>microjoe</td>\n",
       "      <td>Thanksgiving Holiday fun from Rankin/Bass</td>\n",
       "      <td>1058140800</td>\n",
       "    </tr>\n",
       "    <tr>\n",
       "      <th>2</th>\n",
       "      <td>0307141985</td>\n",
       "      <td>[15, 16]</td>\n",
       "      <td>5</td>\n",
       "      <td>This is the BEST THANKSGIVING special around.....</td>\n",
       "      <td>11 6, 2003</td>\n",
       "      <td>A3E102F6LPUF1J</td>\n",
       "      <td>Richard J. Goldschmidt \"Rick Goldschmidt\"</td>\n",
       "      <td>BEST THANKSGIVING special out there!</td>\n",
       "      <td>1068076800</td>\n",
       "    </tr>\n",
       "    <tr>\n",
       "      <th>3</th>\n",
       "      <td>0307141985</td>\n",
       "      <td>[11, 12]</td>\n",
       "      <td>5</td>\n",
       "      <td>It's been a number of years since I've seen Mo...</td>\n",
       "      <td>03 1, 2006</td>\n",
       "      <td>A2JP0URFHXP6DO</td>\n",
       "      <td>Tim Janson</td>\n",
       "      <td>A THANKSGIVING TRADITION</td>\n",
       "      <td>1141171200</td>\n",
       "    </tr>\n",
       "    <tr>\n",
       "      <th>4</th>\n",
       "      <td>073890015X</td>\n",
       "      <td>[1, 16]</td>\n",
       "      <td>5</td>\n",
       "      <td>I read one of the review's on here for woodsto...</td>\n",
       "      <td>01 23, 2003</td>\n",
       "      <td>A3QAV7LALVG1F7</td>\n",
       "      <td>Dianne Papineau \"Brock Papineau\"</td>\n",
       "      <td>Future woodstock's will be better than the first</td>\n",
       "      <td>1043280000</td>\n",
       "    </tr>\n",
       "    <tr>\n",
       "      <th>5</th>\n",
       "      <td>073890015X</td>\n",
       "      <td>[10, 12]</td>\n",
       "      <td>2</td>\n",
       "      <td>I paid, I went, I saw, I experienced.  Unfortu...</td>\n",
       "      <td>03 10, 2000</td>\n",
       "      <td>A1BFRIT70VHDF8</td>\n",
       "      <td>Doogie the Audio Junkie \"dackley\"</td>\n",
       "      <td>2% Of The Real Woodstock 99</td>\n",
       "      <td>952646400</td>\n",
       "    </tr>\n",
       "    <tr>\n",
       "      <th>6</th>\n",
       "      <td>073890015X</td>\n",
       "      <td>[0, 0]</td>\n",
       "      <td>5</td>\n",
       "      <td>As a fan of filmed concerts, I avoided this on...</td>\n",
       "      <td>04 13, 2009</td>\n",
       "      <td>AEFGR6NFTNWH0</td>\n",
       "      <td>Emile Pinsonneault</td>\n",
       "      <td>Don't Get Hung Up On The \"Woodstock\" Thing...</td>\n",
       "      <td>1239580800</td>\n",
       "    </tr>\n",
       "    <tr>\n",
       "      <th>7</th>\n",
       "      <td>073890015X</td>\n",
       "      <td>[11, 13]</td>\n",
       "      <td>4</td>\n",
       "      <td>I dock this DVD one star only because I wanted...</td>\n",
       "      <td>06 14, 2000</td>\n",
       "      <td>A24GD1AWG77IDJ</td>\n",
       "      <td>E. Uthman \"Ed\"</td>\n",
       "      <td>Many great performances; superb audio and video</td>\n",
       "      <td>960940800</td>\n",
       "    </tr>\n",
       "    <tr>\n",
       "      <th>8</th>\n",
       "      <td>073890015X</td>\n",
       "      <td>[2, 2]</td>\n",
       "      <td>1</td>\n",
       "      <td>This would be the perfect event to put on DVD....</td>\n",
       "      <td>10 21, 1999</td>\n",
       "      <td>A1THF19PO0LXRD</td>\n",
       "      <td>James Marsh</td>\n",
       "      <td>Where's the DVD???</td>\n",
       "      <td>940464000</td>\n",
       "    </tr>\n",
       "    <tr>\n",
       "      <th>9</th>\n",
       "      <td>073890015X</td>\n",
       "      <td>[4, 5]</td>\n",
       "      <td>3</td>\n",
       "      <td>If you were to just read the names of the band...</td>\n",
       "      <td>02 18, 2006</td>\n",
       "      <td>A2KCJ6AACY6J0L</td>\n",
       "      <td>James Shannon Bussey</td>\n",
       "      <td>Good Bands, Bad Song Selection</td>\n",
       "      <td>1140220800</td>\n",
       "    </tr>\n",
       "  </tbody>\n",
       "</table>\n",
       "</div>"
      ],
      "text/plain": [
       "         asin   helpful  overall  \\\n",
       "0  0307141985  [14, 15]        5   \n",
       "1  0307141985  [38, 38]        5   \n",
       "2  0307141985  [15, 16]        5   \n",
       "3  0307141985  [11, 12]        5   \n",
       "4  073890015X   [1, 16]        5   \n",
       "5  073890015X  [10, 12]        2   \n",
       "6  073890015X    [0, 0]        5   \n",
       "7  073890015X  [11, 13]        4   \n",
       "8  073890015X    [2, 2]        1   \n",
       "9  073890015X    [4, 5]        3   \n",
       "\n",
       "                                          reviewText   reviewTime  \\\n",
       "0  I don't know who owns the rights to this wonde...   10 6, 2005   \n",
       "1  This is a Thanksgiving tale that begins with t...  07 14, 2003   \n",
       "2  This is the BEST THANKSGIVING special around.....   11 6, 2003   \n",
       "3  It's been a number of years since I've seen Mo...   03 1, 2006   \n",
       "4  I read one of the review's on here for woodsto...  01 23, 2003   \n",
       "5  I paid, I went, I saw, I experienced.  Unfortu...  03 10, 2000   \n",
       "6  As a fan of filmed concerts, I avoided this on...  04 13, 2009   \n",
       "7  I dock this DVD one star only because I wanted...  06 14, 2000   \n",
       "8  This would be the perfect event to put on DVD....  10 21, 1999   \n",
       "9  If you were to just read the names of the band...  02 18, 2006   \n",
       "\n",
       "       reviewerID                               reviewerName  \\\n",
       "0  A3IEV6R2B7VW5Z                                J. Anderson   \n",
       "1   A6GMEO3VRY51S                                   microjoe   \n",
       "2  A3E102F6LPUF1J  Richard J. Goldschmidt \"Rick Goldschmidt\"   \n",
       "3  A2JP0URFHXP6DO                                 Tim Janson   \n",
       "4  A3QAV7LALVG1F7           Dianne Papineau \"Brock Papineau\"   \n",
       "5  A1BFRIT70VHDF8          Doogie the Audio Junkie \"dackley\"   \n",
       "6   AEFGR6NFTNWH0                         Emile Pinsonneault   \n",
       "7  A24GD1AWG77IDJ                             E. Uthman \"Ed\"   \n",
       "8  A1THF19PO0LXRD                                James Marsh   \n",
       "9  A2KCJ6AACY6J0L                       James Shannon Bussey   \n",
       "\n",
       "                                            summary  unixReviewTime  \n",
       "0                           LISTEN TO THE PUBLIC!!!      1128556800  \n",
       "1         Thanksgiving Holiday fun from Rankin/Bass      1058140800  \n",
       "2              BEST THANKSGIVING special out there!      1068076800  \n",
       "3                          A THANKSGIVING TRADITION      1141171200  \n",
       "4  Future woodstock's will be better than the first      1043280000  \n",
       "5                       2% Of The Real Woodstock 99       952646400  \n",
       "6     Don't Get Hung Up On The \"Woodstock\" Thing...      1239580800  \n",
       "7   Many great performances; superb audio and video       960940800  \n",
       "8                                Where's the DVD???       940464000  \n",
       "9                    Good Bands, Bad Song Selection      1140220800  "
      ]
     },
     "execution_count": 4,
     "metadata": {},
     "output_type": "execute_result"
    }
   ],
   "source": [
    "reviews.head(10)"
   ]
  },
  {
   "cell_type": "code",
   "execution_count": 8,
   "metadata": {},
   "outputs": [
    {
     "name": "stdout",
     "output_type": "stream",
     "text": [
      "There are 920,086 records containing customer reviews.\n"
     ]
    }
   ],
   "source": [
    "print(\"There are {:,} records containing customer reviews.\".format(len(reviews)))"
   ]
  },
  {
   "cell_type": "markdown",
   "metadata": {},
   "source": [
    "**Distribution of ratings over dataset**"
   ]
  },
  {
   "cell_type": "code",
   "execution_count": 21,
   "metadata": {},
   "outputs": [
    {
     "data": {
      "image/png": "[encoded data removed]",
      "text/plain": [
       "<Figure size 1080x360 with 1 Axes>"
      ]
     },
     "metadata": {
      "needs_background": "light"
     },
     "output_type": "display_data"
    }
   ],
   "source": [
    "plot_bar(reviews, \"overall\", \"Ratings\", (15,5))"
   ]
  },
  {
   "cell_type": "markdown",
   "metadata": {},
   "source": [
    "There is a significant imbalance in the distrubtion of the data, where the density of the positive labels are much more occurent than the negative labels. This will lead the model to be developed to be skewed towards positive ratings. To avoid creating a biased model, the dataset needs to be balance either by upsampling or downsampling the data. In this tutorial, the dataset will be both up and down sampled, and the performance of the models will be compared accordingly."
   ]
  },
  {
   "cell_type": "markdown",
   "metadata": {},
   "source": [
    "## Balancing Dataset"
   ]
  },
  {
   "cell_type": "markdown",
   "metadata": {},
   "source": [
    "The general approach to balancing the dataset begins with splitting the dataset into 5 sub dataframes. Each dataframe corresponds to numerical rating from 1 to 5. \n",
    "\n",
    "For Downsampling, the objective would be to down-size each dataframe to size of the dataframe that contains the least amount of labels. Therefore, creating equal number of labels across each dataset. "
   ]
  },
  {
   "cell_type": "markdown",
   "metadata": {},
   "source": [
    "**Downsampling**"
   ]
  }
 ],
 "metadata": {
  "kernelspec": {
   "display_name": "Python 3",
   "language": "python",
   "name": "python3"
  },
  "language_info": {
   "codemirror_mode": {
    "name": "ipython",
    "version": 3
   },
   "file_extension": ".py",
   "mimetype": "text/x-python",
   "name": "python",
   "nbconvert_exporter": "python",
   "pygments_lexer": "ipython3",
   "version": "3.6.7"
  }
 },
 "nbformat": 4,
 "nbformat_minor": 2
}
