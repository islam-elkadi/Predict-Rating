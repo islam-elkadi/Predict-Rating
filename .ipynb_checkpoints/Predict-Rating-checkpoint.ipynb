{
 "cells": [
  {
   "cell_type": "markdown",
   "metadata": {},
   "source": [
    "This notebook is a step-by-step tutorial on implementing Text Classification to solve a problem proposed by an IBM Data Science hackathon. The code demonstrated in this tutorial has been productionized and converted into a REST API. To view the code, please navigate to the <b>src</b> folder."
   ]
  },
  {
   "cell_type": "markdown",
   "metadata": {},
   "source": [
    "# The problem"
   ]
  },
  {
   "cell_type": "markdown",
   "metadata": {},
   "source": [
    "A client in the retail space has customer reviews on its products. Recently, the client has implemented a 5-star rating system as part of its reviews platform. However, that was note the case in the past, and due to that there remains large volumes of historical data that has not recieved 5-star ratings from its clients. This client has hired IBM to implement a text classification system that will predict the ratings for their customer historical reviews.\n",
    "\n",
    "The client has suggested that its competitor Amazon competes in the same space, and has plenty of open source data to use that contains ratings for similar products in this space. "
   ]
  },
  {
   "cell_type": "markdown",
   "metadata": {},
   "source": [
    "# Imports"
   ]
  },
  {
   "cell_type": "code",
   "execution_count": 1,
   "metadata": {},
   "outputs": [],
   "source": [
    "import re"
   ]
  },
  {
   "cell_type": "code",
   "execution_count": 2,
   "metadata": {},
   "outputs": [],
   "source": [
    "import pandas as pd\n",
    "import matplotlib.pyplot as plt"
   ]
  },
  {
   "cell_type": "code",
   "execution_count": 3,
   "metadata": {},
   "outputs": [],
   "source": [
    "from itertools import product\n",
    "from subprocess import run, PIPE"
   ]
  },
  {
   "cell_type": "code",
   "execution_count": 4,
   "metadata": {},
   "outputs": [],
   "source": [
    "from nltk.corpus import stopwords\n",
    "from nltk.tokenize import word_tokenize"
   ]
  },
  {
   "cell_type": "code",
   "execution_count": 5,
   "metadata": {},
   "outputs": [],
   "source": [
    "from os.path import join\n",
    "from os import remove, system, listdir, makedirs"
   ]
  },
  {
   "cell_type": "markdown",
   "metadata": {},
   "source": [
    "# Utils"
   ]
  },
  {
   "cell_type": "markdown",
   "metadata": {},
   "source": [
    "**Create new directory**"
   ]
  },
  {
   "cell_type": "code",
   "execution_count": 59,
   "metadata": {},
   "outputs": [],
   "source": [
    "def make_dir(directory):\n",
    "    \"\"\"\n",
    "        Checks if directory doesn't exist, then creates it.\n",
    "\n",
    "        Paras:\n",
    "            directory: name of directory\n",
    "\n",
    "        Returns:\n",
    "            Boolean\n",
    "    \"\"\"\n",
    "    if not exists(directory): \n",
    "        makedirs(directory, exist_ok = True)\n",
    "        return True\n",
    "    else:\n",
    "        return False"
   ]
  },
  {
   "cell_type": "markdown",
   "metadata": {},
   "source": [
    "**Save data to directory**"
   ]
  },
  {
   "cell_type": "code",
   "execution_count": 60,
   "metadata": {},
   "outputs": [],
   "source": [
    "def save_data(directory, name, docs, mode = \"w\"):\n",
    "    \"\"\"\n",
    "        Saves data to directory\n",
    "\n",
    "        Paras:\n",
    "            directory: directory to save data\n",
    "            name: name of file\n",
    "        Returns:\n",
    "            None\n",
    "    \"\"\"\n",
    "    make_dir(directory)\n",
    "    with open(join(directory, name), mode, encoding = \"utf-8\") as f:\n",
    "        f.write(docs)"
   ]
  },
  {
   "cell_type": "markdown",
   "metadata": {},
   "source": [
    "**Store shell output to variable**"
   ]
  },
  {
   "cell_type": "code",
   "execution_count": 61,
   "metadata": {},
   "outputs": [],
   "source": [
    "def shell2var(cmd):\n",
    "    \"\"\"\n",
    "        Runs shell command and returns output in a varible\n",
    "\n",
    "        Paras:\n",
    "            cmd: shell command\n",
    "        Returns:\n",
    "            output of shell command\n",
    "    \"\"\"\n",
    "    result = run(args = cmd, stderr = PIPE, universal_newlines = True, stdout = PIPE, shell = True)   \n",
    "    return result.stdout "
   ]
  },
  {
   "cell_type": "markdown",
   "metadata": {},
   "source": [
    "**Plot Histogram**"
   ]
  },
  {
   "cell_type": "code",
   "execution_count": 62,
   "metadata": {},
   "outputs": [],
   "source": [
    "def plot_bar(dataframe, target, x_label, figsize, rotation = 0):\n",
    "    info = dataframe[target].value_counts()\n",
    "    info_id = info.index.tolist() \n",
    "    info_counts = info.tolist()\n",
    "    plt.figure(figsize = figsize)\n",
    "    plt.bar(info_id, info_counts, align = \"center\", color = \"green\")\n",
    "    plt.xlabel(x_label)\n",
    "    plt.ylabel('Counts')\n",
    "    plt.xticks(rotation = rotation)\n",
    "    plt.show()"
   ]
  },
  {
   "cell_type": "markdown",
   "metadata": {},
   "source": [
    "**Filtering unwanted columns**"
   ]
  },
  {
   "cell_type": "code",
   "execution_count": 63,
   "metadata": {},
   "outputs": [],
   "source": [
    "def remove_columns(dataframe, column_names):\n",
    "    \"\"\"\n",
    "        Filters out unwanted columns\n",
    "\n",
    "        Paras:\n",
    "            dataframe: dataframe to filter\n",
    "            column_names: columns to keep\n",
    "\n",
    "        Return:\n",
    "            df: filtered dataframe\n",
    "    \"\"\"\n",
    "    try:\n",
    "        dataframe = dataframe[column_names]\n",
    "        dataframe = dataframe.dropna()\n",
    "        return dataframe.reset_index(drop = True)\n",
    "    except (ValueError, KeyError):\n",
    "        pass"
   ]
  },
  {
   "cell_type": "markdown",
   "metadata": {},
   "source": [
    "**Merging Dataframes**"
   ]
  },
  {
   "cell_type": "code",
   "execution_count": 64,
   "metadata": {},
   "outputs": [],
   "source": [
    "def merge_workbooks(dataframes, column_names):\n",
    "    \"\"\"\n",
    "        Merges multiple workbooks based on column names\n",
    "\n",
    "        Paras:\n",
    "            dataframes: dfs to merge\n",
    "            Column_names: column names to merge on\n",
    "        Returns:\n",
    "            df: concatenated dataframes\n",
    "    \"\"\"\n",
    "    return pd.concat([remove_columns(df, column_names) for df in dataframes])"
   ]
  },
  {
   "cell_type": "markdown",
   "metadata": {},
   "source": [
    "**Downsample Reviews**"
   ]
  },
  {
   "cell_type": "code",
   "execution_count": 65,
   "metadata": {},
   "outputs": [],
   "source": [
    "def DownSampleReviews(split_reviews, column_names):\n",
    "    \"\"\"\n",
    "        Down-samples the reviews such that there are equal number of labels\n",
    "        Paras:\n",
    "            split_reviews : list of dataframes, where each dataframe is filtered by label\n",
    "            column_names  : column names to keep for balanced dataframe \n",
    "        Returns:\n",
    "            Balanced dataframe\n",
    "    \"\"\"\n",
    "    length = min([len(split_reviews[i]) for i in range(0,5)])\n",
    "    for i, reviews in enumerate(split_reviews):\n",
    "        split_reviews[i] = split_reviews[i].sample(frac = 1)\n",
    "        split_reviews[i] = reviews.iloc[:length, :]\n",
    "    return merge_workbooks(split_reviews, column_names)"
   ]
  },
  {
   "cell_type": "markdown",
   "metadata": {},
   "source": [
    "**Correcting contractions in English**"
   ]
  },
  {
   "cell_type": "code",
   "execution_count": 66,
   "metadata": {},
   "outputs": [],
   "source": [
    "def remove_contractions(raw):\n",
    "    \"\"\"\n",
    "        Removes contractions to clean sentences\n",
    "        \n",
    "        Paras:\n",
    "            raw: raw text data\n",
    "        Returns:\n",
    "            raw: cleaned text\n",
    "    \"\"\"\n",
    "    contractions = { \n",
    "                    \"ain't\": \"is not\",\n",
    "                    \"aren't\": \"are not\",\n",
    "                    \"can't\": \"cannot\",\n",
    "                    \"could've\": \"could have\",\n",
    "                    \"couldn't\": \"could not\",\n",
    "                    \"didn't\": \"did not\",\n",
    "                    \"doesn't\": \"does not\",\n",
    "                    \"don't\": \"do not\",\n",
    "                    \"hadn't\": \"had not\",\n",
    "                    \"hasn't\": \"has not\",\n",
    "                    \"haven't\": \"have not\",\n",
    "                    \"he'd\": \"he would\",\n",
    "                    \"he'll\": \"he will\",\n",
    "                    \"he's\": \"he is\",\n",
    "                    \"how'd\": \"how did\",\n",
    "                    \"how'll\": \"how will\",\n",
    "                    \"how's\": \"how is\",\n",
    "                    \"I'd\": \"I would\",\n",
    "                    \"I'll\": \"I will\",\n",
    "                    \"I'm\": \"I am\",\n",
    "                    \"I've\": \"I have\",\n",
    "                    \"isn't\": \"is not\",\n",
    "                    \"it'd\": \"it would\",\n",
    "                    \"it'll\": \"it will\",\n",
    "                    \"it's\": \"it is\",\n",
    "                    \"let's\": \"let us\",\n",
    "                    \"ma'am\": \"madam\",\n",
    "                    \"mayn't\": \"may not\",\n",
    "                    \"might've\": \"might have\",\n",
    "                    \"mightn't\": \"might not\",\n",
    "                    \"must've\": \"must have\",\n",
    "                    \"mustn't\": \"must not\",\n",
    "                    \"needn't\": \"need not\",\n",
    "                    \"o'clock\": \"of the clock\",\n",
    "                    \"oughtn't\": \"ought not\",\n",
    "                    \"shan't\": \"shall not\",\n",
    "                    \"sha'n't\": \"shall not\",\n",
    "                    \"she'd\": \"she would\",\n",
    "                    \"she'll\": \"she will\",\n",
    "                    \"she's\": \"she is\",\n",
    "                    \"should've\": \"should have\",\n",
    "                    \"shouldn't\": \"should not\",\n",
    "                    \"shouldn't've\": \"should not have\",\n",
    "                    \"so've\": \"so have\",\n",
    "                    \"so's\": \"so as\",\n",
    "                    \"that'd\": \"that would\",\n",
    "                    \"that's\": \"that is\",\n",
    "                    \"there'd\": \"there had\",\n",
    "                    \"there's\": \"there is\",\n",
    "                    \"they'd\": \"they would\",\n",
    "                    \"they'll\": \"they will\",\n",
    "                    \"they're\": \"they are\",\n",
    "                    \"they've\": \"they have\",\n",
    "                    \"to've\": \"to have\",\n",
    "                    \"wasn't\": \"was not\",\n",
    "                    \"we'd\": \"we would\",\n",
    "                    \"we'll\": \"we will\",\n",
    "                    \"we're\": \"we are\",\n",
    "                    \"we've\": \"we have\",\n",
    "                    \"weren't\": \"were not\",\n",
    "                    \"what'll\": \"what will\",\n",
    "                    \"what're\": \"what are\",\n",
    "                    \"what's\": \"what is\",\n",
    "                    \"what've\": \"what have\",\n",
    "                    \"when's\": \"when is\",\n",
    "                    \"when've\": \"when have\",\n",
    "                    \"where'd\": \"where did\",\n",
    "                    \"where's\": \"where is\",\n",
    "                    \"where've\": \"where have\",\n",
    "                    \"who'll\": \"who will\",\n",
    "                    \"who'll've\": \"who will have\",\n",
    "                    \"who's\": \"who is\",\n",
    "                    \"who've\": \"who have\",\n",
    "                    \"why's\": \"why has\",\n",
    "                    \"why've\": \"why have\",\n",
    "                    \"will've\": \"will have\",\n",
    "                    \"won't\": \"will not\",\n",
    "                    \"won't've\": \"will not have\",\n",
    "                    \"would've\": \"would have\",\n",
    "                    \"wouldn't\": \"would not\",\n",
    "                    \"y'all\": \"you all\",\n",
    "                    \"you'd\": \"you had / you would\",\n",
    "                    \"you'll\": \"you will\",\n",
    "                    \"you'll've\": \"you will have\",\n",
    "                    \"you're\": \"you are\",\n",
    "                    \"you've\": \"you have\"\n",
    "                }\n",
    "    if raw in contractions:\n",
    "        return re.sub(raw, contractions[raw], raw)\n",
    "    else:\n",
    "        return raw"
   ]
  },
  {
   "cell_type": "markdown",
   "metadata": {},
   "source": [
    "**Cleaning Text & Removing Noise**"
   ]
  },
  {
   "cell_type": "code",
   "execution_count": 67,
   "metadata": {},
   "outputs": [],
   "source": [
    "def clean_text(text):\n",
    "    \"\"\"\n",
    "        Remove unwanted characters, stopwords, and format the text to create fewer nulls word embeddings\n",
    "\n",
    "        Paras:\n",
    "            text: text data to clean\n",
    "            remove_stopwords: if true, remove stop words from text to reduce noise\n",
    "        Returns:\n",
    "            text: cleaned text data\n",
    "    \"\"\"\n",
    "    stops = set(stopwords.words(\"english\"))\n",
    "    text = text.encode(\"ascii\", errors = \"ignore\").decode()\n",
    "    text = [remove_contractions(word.lower()) for word in text.split()]\n",
    "    text = \" \".join([w for w in text if not w in stops])\n",
    "    return  re.sub(r\"[^a-zA-Z\\s+\\']\", \"\", text)  "
   ]
  },
  {
   "cell_type": "markdown",
   "metadata": {},
   "source": [
    "**Create training corpus**"
   ]
  },
  {
   "cell_type": "code",
   "execution_count": 69,
   "metadata": {},
   "outputs": [],
   "source": [
    "def createTrainingCorpus(df, name):\n",
    "    \"\"\"\n",
    "        Creates training data set with labels appended to beginging of each label\n",
    "\n",
    "        Paras:\n",
    "            df: datafframe\n",
    "        Returns:\n",
    "            None\n",
    "    \"\"\"\n",
    "    df = df.sample(frac = 1).reset_index(drop = True)\n",
    "    ratings = df[\"overall\"].tolist()\n",
    "    reviews = df[\"reviews\"].tolist()\n",
    "\n",
    "    for rating, review in zip(ratings, reviews):\n",
    "        doc =  \"__label__{}\".format(rating) + \" \" + review.strip()\n",
    "        doc = \" \".join([word for word in word_tokenize(doc) if len(word)>1])\n",
    "        save_data(\"../Dataset/training_processed\", \"{}.txt\".format(name), doc + \"\\n\", mode = \"a\")"
   ]
  },
  {
   "cell_type": "markdown",
   "metadata": {},
   "source": [
    "**Create testing corpus**"
   ]
  },
  {
   "cell_type": "code",
   "execution_count": null,
   "metadata": {},
   "outputs": [],
   "source": [
    "def createTestingCorpus(df, name):\n",
    "    \"\"\"\n",
    "        Constructs dataframe with test resutls\n",
    "\n",
    "        Paras:\n",
    "            None\n",
    "        Return:\n",
    "            None\n",
    "    \"\"\"\n",
    "\n",
    "    for _, temp in df.iterrows():\n",
    "        data = temp.overall + \" \" + temp.reviews + \"\\n\"\n",
    "        save_data(\"../Dataset/test_set/\", \"test_{}.txt\".format(name), data, mode = \"a\")"
   ]
  },
  {
   "cell_type": "markdown",
   "metadata": {},
   "source": [
    "**Set FastText Parameters**"
   ]
  },
  {
   "cell_type": "code",
   "execution_count": 34,
   "metadata": {},
   "outputs": [],
   "source": [
    "def setParameters(**kwargs):\n",
    "\n",
    "    \"\"\"\n",
    "        Parameters:\n",
    "            The following arguments are mandatory:\n",
    "            -input              training file path\n",
    "            -output             output file path\n",
    "\n",
    "            The following arguments are optional:\n",
    "            -verbose            verbosity level [2]\n",
    "\n",
    "            The following arguments for the dictionary are optional:\n",
    "            -minCount           minimal number of word occurrences [5]\n",
    "            -minCountLabel      minimal number of label occurrences [0]\n",
    "            -wordNgrams         max length of word ngram [1]\n",
    "            -bucket             number of buckets [2000000]\n",
    "            -minn               min length of char ngram [3]\n",
    "            -maxn               max length of char ngram [6]\n",
    "            -t                  sampling threshold [0.0001]\n",
    "            -label              labels prefix [__label__]\n",
    "\n",
    "            The following arguments for training are optional:\n",
    "            -lr                 learning rate [0.05]\n",
    "            -lrUpdateRate       change the rate of updates for the learning rate [100]\n",
    "            -dim                size of word vectors [100]\n",
    "            -ws                 size of the context window [5]\n",
    "            -epoch              number of epochs [5]\n",
    "            -neg                number of negatives sampled [5]\n",
    "            -loss               loss function {ns, hs, softmax} [ns]\n",
    "            -thread             number of threads [12]\n",
    "            -pretrainedVectors  pretrained word vectors for supervised learning []\n",
    "            -saveOutput         whether output params should be saved [0]\n",
    "\n",
    "            The following arguments for quantization are optional:\n",
    "            -cutoff             number of words and ngrams to retain [0]\n",
    "            -retrain            finetune embeddings if a cutoff is applied [0]\n",
    "            -qnorm              quantizing the norm separately [0]\n",
    "            -qout               quantizing the classifier [0]\n",
    "            -dsub               size of each sub-vector [2]\n",
    "\n",
    "        Returns:\n",
    "            None\n",
    "    \"\"\"\n",
    "\n",
    "    if kwargs[\"verbose\"] == None: verbose = None\n",
    "    else: verbose = \"-verbose {}\".format(kwargs[\"verbose\"])\n",
    "\n",
    "    if kwargs[\"minCount\"] == None: minCount = None\n",
    "    else: minCount = \"-minCount {}\".format(kwargs[\"minCount\"])\n",
    "\n",
    "    if kwargs[\"minCountLabel\"] == None: minCountLabel = None\n",
    "    else: minCountLabel = \"-minCountLabel {}\".format(kwargs[\"minCountLabel\"])\n",
    "\n",
    "    if kwargs[\"wordNgrams\"] == None: wordNgrams = None\n",
    "    else: wordNgrams = \"-wordNgrams {}\".format(kwargs[\"wordNgrams\"])\n",
    "\n",
    "    if kwargs[\"bucket\"] == None: bucket = None\n",
    "    else: bucket = \"-bucket {}\" .format(kwargs[\"bucket\"])\n",
    "\n",
    "    if kwargs[\"minn\"] == None: minn = None\n",
    "    else: minn = \"-minn {}\".format(kwargs[\"minn\"])\n",
    "\n",
    "    if kwargs[\"maxn\"] == None: maxn = None\n",
    "    else: maxn = \"-maxn {}\".format(kwargs[\"maxn\"])\n",
    "\n",
    "    if kwargs[\"t\"] == None: t = None\n",
    "    else: t = \"-t {}\".format(kwargs[\"t\"])\n",
    "\n",
    "    if kwargs[\"label\"] == None: label = None\n",
    "    else: label = \"-label {}\".format(kwargs[\"label\"])\n",
    "\n",
    "    if kwargs[\"lr\"] == None: lr = None\n",
    "    else: lr = \"-lr {}\".format(kwargs[\"lr\"])\n",
    "\n",
    "    if kwargs[\"lrUpdateRate\"] == None: lrUpdateRate = None\n",
    "    else: lrUpdateRate = \"-lrUpdateRate {}\".format(kwargs[\"lrUpdateRate\"])\n",
    "\n",
    "    if kwargs[\"dim\"] == None: dim = None\n",
    "    else: dim = \"-dim {}\".format(kwargs[\"dim\"])\n",
    "\n",
    "    if kwargs[\"ws\"] == None: ws = None\n",
    "    else: ws = \"-ws {}\".format(kwargs[\"ws\"])\n",
    "\n",
    "    if kwargs[\"epoch\"] == None: epoch = None\n",
    "    else: epoch = \"-epoch {}\".format(kwargs[\"epoch\"])\n",
    "\n",
    "    if kwargs[\"neg\"] == None: neg = None\n",
    "    else: neg = \"-neg {}\".format(kwargs[\"neg\"])\n",
    "\n",
    "    if kwargs[\"loss\"] == None: loss = None\n",
    "    else: loss = \"-loss {}\".format(kwargs[\"loss\"])\n",
    "\n",
    "    if kwargs[\"thread\"] == None: thread = None\n",
    "    else: thread = \"-thread {}\".format(kwargs[\"thread\"])\n",
    "\n",
    "    if kwargs[\"pretrainedVectors\"] == None: pretrainedVectors = None\n",
    "    else: pretrainedVectors = \"-pretrainedVectors {}\".format(kwargs[\"pretrainedVectors\"])\n",
    "\n",
    "    if kwargs[\"saveOutput\"] == None: saveOutput = None\n",
    "    else: saveOutput = \"-saveOutput {}\".format(kwargs[\"saveOutput\"])\n",
    "\n",
    "    if kwargs[\"cutoff\"] == None: cutoff = None\n",
    "    else: cutoff = \"-cutoff {}\".format(kwargs[\"cutoff\"])\n",
    "\n",
    "    if kwargs[\"retrain\"] == None: retrain = None\n",
    "    else: retrain = \"-retrain {}\".format(kwargs[\"retrain\"])\n",
    "\n",
    "    if kwargs[\"qnorm\"] == None: qnorm = None\n",
    "    else: qnorm = \"-qnorm {}\".format(kwargs[\"qnorm\"])\n",
    "\n",
    "    if kwargs[\"qout\"] == None: qout = None\n",
    "    else: qout = \"-qout {}\".format(kwargs[\"qout\"])\n",
    "\n",
    "    if kwargs[\"dsub\"] == None: dsub = None\n",
    "    else: dsub = \"-dsub {}\".format(kwargs[\"dsub\"])\n",
    "\n",
    "    cmd = [verbose, minCount, minCountLabel, wordNgrams, bucket, minn, maxn, t, label, lr, lrUpdateRate, dim, ws, epoch, neg, loss, thread, pretrainedVectors, saveOutput, cutoff, retrain, qnorm, qout, dsub]\n",
    "\n",
    "    return \" \".join(list(filter(None, cmd)))"
   ]
  },
  {
   "cell_type": "markdown",
   "metadata": {},
   "source": [
    "**Train FastText Supervised Classifier**"
   ]
  },
  {
   "cell_type": "code",
   "execution_count": 51,
   "metadata": {},
   "outputs": [],
   "source": [
    "def TrainClassifier(**kwargs):\n",
    "    \"\"\"\n",
    "        Trains supervised classifier\n",
    "        Paras:\n",
    "            hyper_parameters: parameters to train neural net\n",
    "        Returns:\n",
    "            None\n",
    "    \"\"\"\n",
    "    make_dir(\"../fastTextModels\")\n",
    "    name = kwargs[\"name\"]\n",
    "    model = kwargs[\"model\"]\n",
    "    parameters = setParameters(**kwargs)\n",
    "    system(\"./fastText/fasttext {} -input ./Dataset/training_set_processed/training_{}.txt -output ./fastTextModels/model_{} -label __label__ {}\".format(model, name, name, parameters))"
   ]
  },
  {
   "cell_type": "markdown",
   "metadata": {},
   "source": [
    "**Test FastText Classifier**"
   ]
  },
  {
   "cell_type": "code",
   "execution_count": null,
   "metadata": {},
   "outputs": [],
   "source": [
    "def TestClassifier(name):\n",
    "    \"\"\"\n",
    "        Constructs dataframe with test resutls\n",
    "\n",
    "        Paras:\n",
    "            None\n",
    "        Return:\n",
    "            None\n",
    "    \"\"\"\n",
    "\n",
    "    # if make_dir(\"../Dataset/testing/train.csv\"):\n",
    "\n",
    "    df = pd.read_csv(\"../Dataset/test_set/train.csv\")\n",
    "    df = df.loc[df[\"categoryName\"] == name]\n",
    "    df = remove_columns(df, [\"summary\", \"reviewText\", \"overall\"])\n",
    "\n",
    "    for _, temp in df.iterrows():\n",
    "        data = temp.summary + \". \" + temp.reviewText\n",
    "        data = clean_text(data)\n",
    "        data = temp.overall + \" \" + data + \"\\n\"\n",
    "        save_data(\"../Dataset/test_set/\", \"test_{}.txt\".format(name), data, mode = \"a\")\n",
    "\n",
    "    test_directory = join(\"../Dataset/test_set\", \"test_{}.txt\".format(name))\n",
    "    test_cmd = \"../fastText/fasttext test ../fastTextModels/model_{}.bin {}\".format(name, test_directory)\n",
    "    return shell2var(test_cmd)"
   ]
  },
  {
   "cell_type": "markdown",
   "metadata": {},
   "source": [
    "# Preprocessing"
   ]
  },
  {
   "cell_type": "markdown",
   "metadata": {},
   "source": [
    "## Load Data"
   ]
  },
  {
   "cell_type": "code",
   "execution_count": 7,
   "metadata": {},
   "outputs": [],
   "source": [
    "reviews = pd.read_csv(\"./Dataset/raw_training_set/CDVinyl.csv\")"
   ]
  },
  {
   "cell_type": "markdown",
   "metadata": {},
   "source": [
    "## Data Exploration"
   ]
  },
  {
   "cell_type": "code",
   "execution_count": 8,
   "metadata": {},
   "outputs": [
    {
     "data": {
      "text/html": [
       "<div>\n",
       "<style scoped>\n",
       "    .dataframe tbody tr th:only-of-type {\n",
       "        vertical-align: middle;\n",
       "    }\n",
       "\n",
       "    .dataframe tbody tr th {\n",
       "        vertical-align: top;\n",
       "    }\n",
       "\n",
       "    .dataframe thead th {\n",
       "        text-align: right;\n",
       "    }\n",
       "</style>\n",
       "<table border=\"1\" class=\"dataframe\">\n",
       "  <thead>\n",
       "    <tr style=\"text-align: right;\">\n",
       "      <th></th>\n",
       "      <th>asin</th>\n",
       "      <th>helpful</th>\n",
       "      <th>overall</th>\n",
       "      <th>reviewText</th>\n",
       "      <th>reviewTime</th>\n",
       "      <th>reviewerID</th>\n",
       "      <th>reviewerName</th>\n",
       "      <th>summary</th>\n",
       "      <th>unixReviewTime</th>\n",
       "    </tr>\n",
       "  </thead>\n",
       "  <tbody>\n",
       "    <tr>\n",
       "      <th>0</th>\n",
       "      <td>0307141985</td>\n",
       "      <td>[14, 15]</td>\n",
       "      <td>5</td>\n",
       "      <td>I don't know who owns the rights to this wonde...</td>\n",
       "      <td>10 6, 2005</td>\n",
       "      <td>A3IEV6R2B7VW5Z</td>\n",
       "      <td>J. Anderson</td>\n",
       "      <td>LISTEN TO THE PUBLIC!!!</td>\n",
       "      <td>1128556800</td>\n",
       "    </tr>\n",
       "    <tr>\n",
       "      <th>1</th>\n",
       "      <td>0307141985</td>\n",
       "      <td>[38, 38]</td>\n",
       "      <td>5</td>\n",
       "      <td>This is a Thanksgiving tale that begins with t...</td>\n",
       "      <td>07 14, 2003</td>\n",
       "      <td>A6GMEO3VRY51S</td>\n",
       "      <td>microjoe</td>\n",
       "      <td>Thanksgiving Holiday fun from Rankin/Bass</td>\n",
       "      <td>1058140800</td>\n",
       "    </tr>\n",
       "    <tr>\n",
       "      <th>2</th>\n",
       "      <td>0307141985</td>\n",
       "      <td>[15, 16]</td>\n",
       "      <td>5</td>\n",
       "      <td>This is the BEST THANKSGIVING special around.....</td>\n",
       "      <td>11 6, 2003</td>\n",
       "      <td>A3E102F6LPUF1J</td>\n",
       "      <td>Richard J. Goldschmidt \"Rick Goldschmidt\"</td>\n",
       "      <td>BEST THANKSGIVING special out there!</td>\n",
       "      <td>1068076800</td>\n",
       "    </tr>\n",
       "    <tr>\n",
       "      <th>3</th>\n",
       "      <td>0307141985</td>\n",
       "      <td>[11, 12]</td>\n",
       "      <td>5</td>\n",
       "      <td>It's been a number of years since I've seen Mo...</td>\n",
       "      <td>03 1, 2006</td>\n",
       "      <td>A2JP0URFHXP6DO</td>\n",
       "      <td>Tim Janson</td>\n",
       "      <td>A THANKSGIVING TRADITION</td>\n",
       "      <td>1141171200</td>\n",
       "    </tr>\n",
       "    <tr>\n",
       "      <th>4</th>\n",
       "      <td>073890015X</td>\n",
       "      <td>[1, 16]</td>\n",
       "      <td>5</td>\n",
       "      <td>I read one of the review's on here for woodsto...</td>\n",
       "      <td>01 23, 2003</td>\n",
       "      <td>A3QAV7LALVG1F7</td>\n",
       "      <td>Dianne Papineau \"Brock Papineau\"</td>\n",
       "      <td>Future woodstock's will be better than the first</td>\n",
       "      <td>1043280000</td>\n",
       "    </tr>\n",
       "    <tr>\n",
       "      <th>5</th>\n",
       "      <td>073890015X</td>\n",
       "      <td>[10, 12]</td>\n",
       "      <td>2</td>\n",
       "      <td>I paid, I went, I saw, I experienced.  Unfortu...</td>\n",
       "      <td>03 10, 2000</td>\n",
       "      <td>A1BFRIT70VHDF8</td>\n",
       "      <td>Doogie the Audio Junkie \"dackley\"</td>\n",
       "      <td>2% Of The Real Woodstock 99</td>\n",
       "      <td>952646400</td>\n",
       "    </tr>\n",
       "    <tr>\n",
       "      <th>6</th>\n",
       "      <td>073890015X</td>\n",
       "      <td>[0, 0]</td>\n",
       "      <td>5</td>\n",
       "      <td>As a fan of filmed concerts, I avoided this on...</td>\n",
       "      <td>04 13, 2009</td>\n",
       "      <td>AEFGR6NFTNWH0</td>\n",
       "      <td>Emile Pinsonneault</td>\n",
       "      <td>Don't Get Hung Up On The \"Woodstock\" Thing...</td>\n",
       "      <td>1239580800</td>\n",
       "    </tr>\n",
       "    <tr>\n",
       "      <th>7</th>\n",
       "      <td>073890015X</td>\n",
       "      <td>[11, 13]</td>\n",
       "      <td>4</td>\n",
       "      <td>I dock this DVD one star only because I wanted...</td>\n",
       "      <td>06 14, 2000</td>\n",
       "      <td>A24GD1AWG77IDJ</td>\n",
       "      <td>E. Uthman \"Ed\"</td>\n",
       "      <td>Many great performances; superb audio and video</td>\n",
       "      <td>960940800</td>\n",
       "    </tr>\n",
       "    <tr>\n",
       "      <th>8</th>\n",
       "      <td>073890015X</td>\n",
       "      <td>[2, 2]</td>\n",
       "      <td>1</td>\n",
       "      <td>This would be the perfect event to put on DVD....</td>\n",
       "      <td>10 21, 1999</td>\n",
       "      <td>A1THF19PO0LXRD</td>\n",
       "      <td>James Marsh</td>\n",
       "      <td>Where's the DVD???</td>\n",
       "      <td>940464000</td>\n",
       "    </tr>\n",
       "    <tr>\n",
       "      <th>9</th>\n",
       "      <td>073890015X</td>\n",
       "      <td>[4, 5]</td>\n",
       "      <td>3</td>\n",
       "      <td>If you were to just read the names of the band...</td>\n",
       "      <td>02 18, 2006</td>\n",
       "      <td>A2KCJ6AACY6J0L</td>\n",
       "      <td>James Shannon Bussey</td>\n",
       "      <td>Good Bands, Bad Song Selection</td>\n",
       "      <td>1140220800</td>\n",
       "    </tr>\n",
       "  </tbody>\n",
       "</table>\n",
       "</div>"
      ],
      "text/plain": [
       "         asin   helpful  overall  \\\n",
       "0  0307141985  [14, 15]        5   \n",
       "1  0307141985  [38, 38]        5   \n",
       "2  0307141985  [15, 16]        5   \n",
       "3  0307141985  [11, 12]        5   \n",
       "4  073890015X   [1, 16]        5   \n",
       "5  073890015X  [10, 12]        2   \n",
       "6  073890015X    [0, 0]        5   \n",
       "7  073890015X  [11, 13]        4   \n",
       "8  073890015X    [2, 2]        1   \n",
       "9  073890015X    [4, 5]        3   \n",
       "\n",
       "                                          reviewText   reviewTime  \\\n",
       "0  I don't know who owns the rights to this wonde...   10 6, 2005   \n",
       "1  This is a Thanksgiving tale that begins with t...  07 14, 2003   \n",
       "2  This is the BEST THANKSGIVING special around.....   11 6, 2003   \n",
       "3  It's been a number of years since I've seen Mo...   03 1, 2006   \n",
       "4  I read one of the review's on here for woodsto...  01 23, 2003   \n",
       "5  I paid, I went, I saw, I experienced.  Unfortu...  03 10, 2000   \n",
       "6  As a fan of filmed concerts, I avoided this on...  04 13, 2009   \n",
       "7  I dock this DVD one star only because I wanted...  06 14, 2000   \n",
       "8  This would be the perfect event to put on DVD....  10 21, 1999   \n",
       "9  If you were to just read the names of the band...  02 18, 2006   \n",
       "\n",
       "       reviewerID                               reviewerName  \\\n",
       "0  A3IEV6R2B7VW5Z                                J. Anderson   \n",
       "1   A6GMEO3VRY51S                                   microjoe   \n",
       "2  A3E102F6LPUF1J  Richard J. Goldschmidt \"Rick Goldschmidt\"   \n",
       "3  A2JP0URFHXP6DO                                 Tim Janson   \n",
       "4  A3QAV7LALVG1F7           Dianne Papineau \"Brock Papineau\"   \n",
       "5  A1BFRIT70VHDF8          Doogie the Audio Junkie \"dackley\"   \n",
       "6   AEFGR6NFTNWH0                         Emile Pinsonneault   \n",
       "7  A24GD1AWG77IDJ                             E. Uthman \"Ed\"   \n",
       "8  A1THF19PO0LXRD                                James Marsh   \n",
       "9  A2KCJ6AACY6J0L                       James Shannon Bussey   \n",
       "\n",
       "                                            summary  unixReviewTime  \n",
       "0                           LISTEN TO THE PUBLIC!!!      1128556800  \n",
       "1         Thanksgiving Holiday fun from Rankin/Bass      1058140800  \n",
       "2              BEST THANKSGIVING special out there!      1068076800  \n",
       "3                          A THANKSGIVING TRADITION      1141171200  \n",
       "4  Future woodstock's will be better than the first      1043280000  \n",
       "5                       2% Of The Real Woodstock 99       952646400  \n",
       "6     Don't Get Hung Up On The \"Woodstock\" Thing...      1239580800  \n",
       "7   Many great performances; superb audio and video       960940800  \n",
       "8                                Where's the DVD???       940464000  \n",
       "9                    Good Bands, Bad Song Selection      1140220800  "
      ]
     },
     "execution_count": 8,
     "metadata": {},
     "output_type": "execute_result"
    }
   ],
   "source": [
    "reviews.head(10)"
   ]
  },
  {
   "cell_type": "code",
   "execution_count": 9,
   "metadata": {},
   "outputs": [
    {
     "name": "stdout",
     "output_type": "stream",
     "text": [
      "There are 920,086 records containing customer reviews.\n"
     ]
    }
   ],
   "source": [
    "print(\"There are {:,} records containing customer reviews.\".format(len(reviews)))"
   ]
  },
  {
   "cell_type": "markdown",
   "metadata": {},
   "source": [
    "**Distribution of ratings over dataset**"
   ]
  },
  {
   "cell_type": "code",
   "execution_count": 10,
   "metadata": {},
   "outputs": [
    {
     "data": {
      "image/png": "[encoded data removed]",
      "text/plain": [
       "<Figure size 1080x360 with 1 Axes>"
      ]
     },
     "metadata": {
      "needs_background": "light"
     },
     "output_type": "display_data"
    }
   ],
   "source": [
    "plot_bar(reviews, \"overall\", \"Ratings\", (15,5))"
   ]
  },
  {
   "cell_type": "markdown",
   "metadata": {},
   "source": [
    "There is a significant imbalance in the distrubtion of the data, where the density of the positive labels are much more occurent than the negative labels. This will lead the model to be developed to be skewed towards positive ratings. To avoid creating a biased model, the dataset needs to be balance either by upsampling or downsampling the data. In this tutorial, the dataset will be down sampled, and the performance of the models will be compared accordingly."
   ]
  },
  {
   "cell_type": "markdown",
   "metadata": {},
   "source": [
    "## Balancing Dataset"
   ]
  },
  {
   "cell_type": "markdown",
   "metadata": {},
   "source": [
    "The general approach to balancing the dataset begins with splitting the dataset into 5 sub dataframes. Each dataframe corresponds to numerical rating from 1 to 5. For Downsampling, the objective would be to down-size each dataframe to size of the dataframe that contains the least amount of labels. Therefore, creating equal number of labels across each dataset. "
   ]
  },
  {
   "cell_type": "markdown",
   "metadata": {},
   "source": [
    "**Splitting Dataframes**"
   ]
  },
  {
   "cell_type": "markdown",
   "metadata": {},
   "source": [
    "Since there are 5 target labels, the original dataframe is split accordingly in preparation for ingestion and analysis."
   ]
  },
  {
   "cell_type": "code",
   "execution_count": 11,
   "metadata": {},
   "outputs": [],
   "source": [
    "split_dataframes = [reviews.loc[reviews[\"overall\"] == i] for i in range(1,6)]"
   ]
  },
  {
   "cell_type": "markdown",
   "metadata": {},
   "source": [
    "**Downsampling**"
   ]
  },
  {
   "cell_type": "code",
   "execution_count": 15,
   "metadata": {},
   "outputs": [],
   "source": [
    "columns = [\"summary\", \"reviewText\", \"overall\"]"
   ]
  },
  {
   "cell_type": "code",
   "execution_count": 19,
   "metadata": {},
   "outputs": [],
   "source": [
    "balanced_reviews = DownSampleReviews(split_dataframes, columns)"
   ]
  },
  {
   "cell_type": "markdown",
   "metadata": {},
   "source": [
    "**Combine summaries and reviews**"
   ]
  },
  {
   "cell_type": "markdown",
   "metadata": {},
   "source": [
    "There is a good amount of information that can be extracted from the summary section of each review. Therefore, it would be a good approach to combine the summaries with the reviews to trian the text classifier. Upon combining them, a new dataframe with the rating and the text data will be produced."
   ]
  },
  {
   "cell_type": "code",
   "execution_count": 21,
   "metadata": {},
   "outputs": [],
   "source": [
    "balanced_reviews[\"reviews\"] = balanced_reviews[\"summary\"] + \" \" + balanced_reviews[\"reviewText\"]"
   ]
  },
  {
   "cell_type": "code",
   "execution_count": 25,
   "metadata": {},
   "outputs": [],
   "source": [
    "balanced_reviews[\"reviews\"] = balanced_reviews[\"reviews\"].apply(lambda x: clean_text(x))"
   ]
  },
  {
   "cell_type": "code",
   "execution_count": 26,
   "metadata": {},
   "outputs": [],
   "source": [
    "processed_reviews = balanced_reviews[[\"reviews\", \"overall\"]]"
   ]
  },
  {
   "cell_type": "markdown",
   "metadata": {},
   "source": [
    "# Create Training & Testing Dataset"
   ]
  },
  {
   "cell_type": "markdown",
   "metadata": {},
   "source": [
    "**Randomly Shuffle Data**"
   ]
  },
  {
   "cell_type": "code",
   "execution_count": 28,
   "metadata": {},
   "outputs": [],
   "source": [
    "processed_reviews_shuffled = processed_reviews.sample(frac = 1).reset_index(drop = True)"
   ]
  },
  {
   "cell_type": "markdown",
   "metadata": {},
   "source": [
    "**Split data into training & testing**"
   ]
  },
  {
   "cell_type": "code",
   "execution_count": 31,
   "metadata": {},
   "outputs": [],
   "source": [
    "eight_pct_len = int(0.8*len(processed_reviews_shuffled))"
   ]
  },
  {
   "cell_type": "code",
   "execution_count": 32,
   "metadata": {},
   "outputs": [],
   "source": [
    "training_data = processed_reviews_shuffled.loc[:eight_pct_len, :]"
   ]
  },
  {
   "cell_type": "code",
   "execution_count": 33,
   "metadata": {},
   "outputs": [],
   "source": [
    "test_data = processed_reviews_shuffled.loc[eight_pct_len:, :]"
   ]
  },
  {
   "cell_type": "markdown",
   "metadata": {},
   "source": [
    "# Create Training Corpus"
   ]
  },
  {
   "cell_type": "code",
   "execution_count": 70,
   "metadata": {},
   "outputs": [],
   "source": [
    "createTrainingCorpus(training_data, \"CDVinyl\")"
   ]
  },
  {
   "cell_type": "markdown",
   "metadata": {},
   "source": [
    "# Create Testing Corpus"
   ]
  },
  {
   "cell_type": "code",
   "execution_count": null,
   "metadata": {},
   "outputs": [],
   "source": []
  },
  {
   "cell_type": "markdown",
   "metadata": {},
   "source": [
    "# Train Classifier"
   ]
  },
  {
   "cell_type": "code",
   "execution_count": 53,
   "metadata": {},
   "outputs": [],
   "source": [
    "kwargs = {\n",
    "    \"name\": \"CDVinyl\",\n",
    "    \"model\" :\"supervised\",\n",
    "    \"verbose\": None,\n",
    "    \"minCount\": None, \n",
    "    \"minCountLabel\": None, \n",
    "    \"wordNgrams\": None,\n",
    "    \"bucket\": None,\n",
    "    \"minn\": None,\n",
    "    \"maxn\": None, \n",
    "    \"t\": None, \n",
    "    \"label\": None, \n",
    "    \"lr\": None, \n",
    "    \"lrUpdateRate\": None, \n",
    "    \"dim\": None, \n",
    "    \"ws\": None, \n",
    "    \"epoch\": None, \n",
    "    \"neg\": None, \n",
    "    \"loss\": None, \n",
    "    \"thread\": None,\n",
    "    \"pretrainedVectors\": None, \n",
    "    \"saveOutput\": None, \n",
    "    \"cutoff\": None, \n",
    "    \"retrain\": None, \n",
    "    \"qnorm\": None, \n",
    "    \"qout\": None, \n",
    "    \"dsub\": None\n",
    "    }"
   ]
  },
  {
   "cell_type": "code",
   "execution_count": 52,
   "metadata": {},
   "outputs": [],
   "source": [
    "TrainClassifier(**kwargs)"
   ]
  },
  {
   "cell_type": "code",
   "execution_count": null,
   "metadata": {},
   "outputs": [],
   "source": []
  }
 ],
 "metadata": {
  "kernelspec": {
   "display_name": "Python 3",
   "language": "python",
   "name": "python3"
  },
  "language_info": {
   "codemirror_mode": {
    "name": "ipython",
    "version": 3
   },
   "file_extension": ".py",
   "mimetype": "text/x-python",
   "name": "python",
   "nbconvert_exporter": "python",
   "pygments_lexer": "ipython3",
   "version": "3.6.7"
  }
 },
 "nbformat": 4,
 "nbformat_minor": 2
}
